{
 "cells": [
  {
   "cell_type": "markdown",
   "metadata": {},
   "source": [
    "# Projeto Data Science - Avaliação de algoritmos supervisionados para análise de churn"
   ]
  },
  {
   "cell_type": "markdown",
   "metadata": {},
   "source": [
    "## Etapas dentro do projeto\n",
    "\n",
    "1. Entendimento do problema de negócio\n",
    "2. Extração/Obtenção de dados\n",
    "3. Ajuste de dados (Limpeza dos dados)\n",
    "4. Análise exploratória\n",
    "5. Modelagem + Algoritmos\n",
    "6. Interpretação dos resultados"
   ]
  },
  {
   "cell_type": "markdown",
   "metadata": {},
   "source": [
    "## Contexto\n",
    "\n",
    "- A base de dados disponível representa informações sobre gerais sobre clientes de um banco, e a principal informação está relacionada à retenção ou saída do cliente de acordo com seu perfil (**análise de _churn_**);\n",
    "- O objetivo principal é determinar um modelo de classificação eficiente para predição da saída ou não desses clientes de acordo com as informações disponíveis, realizando a análise exploratória dos dados e avaliação de diferentes modelos para aprendizado supervisionado;\n",
    "- **O dataset encontra-se disponível para download dentro do repositório Github.**"
   ]
  },
  {
   "cell_type": "code",
   "execution_count": 14,
   "metadata": {},
   "outputs": [
    {
     "data": {
      "text/html": [
       "<div>\n",
       "<style scoped>\n",
       "    .dataframe tbody tr th:only-of-type {\n",
       "        vertical-align: middle;\n",
       "    }\n",
       "\n",
       "    .dataframe tbody tr th {\n",
       "        vertical-align: top;\n",
       "    }\n",
       "\n",
       "    .dataframe thead th {\n",
       "        text-align: right;\n",
       "    }\n",
       "</style>\n",
       "<table border=\"1\" class=\"dataframe\">\n",
       "  <thead>\n",
       "    <tr style=\"text-align: right;\">\n",
       "      <th></th>\n",
       "      <th>RowNumber</th>\n",
       "      <th>CustomerId</th>\n",
       "      <th>Surname</th>\n",
       "      <th>CreditScore</th>\n",
       "      <th>Geography</th>\n",
       "      <th>Gender</th>\n",
       "      <th>Age</th>\n",
       "      <th>Tenure</th>\n",
       "      <th>Balance</th>\n",
       "      <th>NumOfProducts</th>\n",
       "      <th>HasCrCard</th>\n",
       "      <th>IsActiveMember</th>\n",
       "      <th>EstimatedSalary</th>\n",
       "      <th>Exited</th>\n",
       "    </tr>\n",
       "  </thead>\n",
       "  <tbody>\n",
       "    <tr>\n",
       "      <th>0</th>\n",
       "      <td>1</td>\n",
       "      <td>15634602</td>\n",
       "      <td>Hargrave</td>\n",
       "      <td>619</td>\n",
       "      <td>France</td>\n",
       "      <td>Female</td>\n",
       "      <td>42</td>\n",
       "      <td>2</td>\n",
       "      <td>0.00</td>\n",
       "      <td>1</td>\n",
       "      <td>1</td>\n",
       "      <td>1</td>\n",
       "      <td>101348.88</td>\n",
       "      <td>1</td>\n",
       "    </tr>\n",
       "    <tr>\n",
       "      <th>1</th>\n",
       "      <td>2</td>\n",
       "      <td>15647311</td>\n",
       "      <td>Hill</td>\n",
       "      <td>608</td>\n",
       "      <td>Spain</td>\n",
       "      <td>Female</td>\n",
       "      <td>41</td>\n",
       "      <td>1</td>\n",
       "      <td>83807.86</td>\n",
       "      <td>1</td>\n",
       "      <td>0</td>\n",
       "      <td>1</td>\n",
       "      <td>112542.58</td>\n",
       "      <td>0</td>\n",
       "    </tr>\n",
       "    <tr>\n",
       "      <th>2</th>\n",
       "      <td>3</td>\n",
       "      <td>15619304</td>\n",
       "      <td>Onio</td>\n",
       "      <td>502</td>\n",
       "      <td>France</td>\n",
       "      <td>Female</td>\n",
       "      <td>42</td>\n",
       "      <td>8</td>\n",
       "      <td>159660.80</td>\n",
       "      <td>3</td>\n",
       "      <td>1</td>\n",
       "      <td>0</td>\n",
       "      <td>113931.57</td>\n",
       "      <td>1</td>\n",
       "    </tr>\n",
       "    <tr>\n",
       "      <th>3</th>\n",
       "      <td>4</td>\n",
       "      <td>15701354</td>\n",
       "      <td>Boni</td>\n",
       "      <td>699</td>\n",
       "      <td>France</td>\n",
       "      <td>Female</td>\n",
       "      <td>39</td>\n",
       "      <td>1</td>\n",
       "      <td>0.00</td>\n",
       "      <td>2</td>\n",
       "      <td>0</td>\n",
       "      <td>0</td>\n",
       "      <td>93826.63</td>\n",
       "      <td>0</td>\n",
       "    </tr>\n",
       "    <tr>\n",
       "      <th>4</th>\n",
       "      <td>5</td>\n",
       "      <td>15737888</td>\n",
       "      <td>Mitchell</td>\n",
       "      <td>850</td>\n",
       "      <td>Spain</td>\n",
       "      <td>Female</td>\n",
       "      <td>43</td>\n",
       "      <td>2</td>\n",
       "      <td>125510.82</td>\n",
       "      <td>1</td>\n",
       "      <td>1</td>\n",
       "      <td>1</td>\n",
       "      <td>79084.10</td>\n",
       "      <td>0</td>\n",
       "    </tr>\n",
       "    <tr>\n",
       "      <th>5</th>\n",
       "      <td>6</td>\n",
       "      <td>15574012</td>\n",
       "      <td>Chu</td>\n",
       "      <td>645</td>\n",
       "      <td>Spain</td>\n",
       "      <td>Male</td>\n",
       "      <td>44</td>\n",
       "      <td>8</td>\n",
       "      <td>113755.78</td>\n",
       "      <td>2</td>\n",
       "      <td>1</td>\n",
       "      <td>0</td>\n",
       "      <td>149756.71</td>\n",
       "      <td>1</td>\n",
       "    </tr>\n",
       "    <tr>\n",
       "      <th>6</th>\n",
       "      <td>7</td>\n",
       "      <td>15592531</td>\n",
       "      <td>Bartlett</td>\n",
       "      <td>822</td>\n",
       "      <td>France</td>\n",
       "      <td>Male</td>\n",
       "      <td>50</td>\n",
       "      <td>7</td>\n",
       "      <td>0.00</td>\n",
       "      <td>2</td>\n",
       "      <td>1</td>\n",
       "      <td>1</td>\n",
       "      <td>10062.80</td>\n",
       "      <td>0</td>\n",
       "    </tr>\n",
       "    <tr>\n",
       "      <th>7</th>\n",
       "      <td>8</td>\n",
       "      <td>15656148</td>\n",
       "      <td>Obinna</td>\n",
       "      <td>376</td>\n",
       "      <td>Germany</td>\n",
       "      <td>Female</td>\n",
       "      <td>29</td>\n",
       "      <td>4</td>\n",
       "      <td>115046.74</td>\n",
       "      <td>4</td>\n",
       "      <td>1</td>\n",
       "      <td>0</td>\n",
       "      <td>119346.88</td>\n",
       "      <td>1</td>\n",
       "    </tr>\n",
       "    <tr>\n",
       "      <th>8</th>\n",
       "      <td>9</td>\n",
       "      <td>15792365</td>\n",
       "      <td>He</td>\n",
       "      <td>501</td>\n",
       "      <td>France</td>\n",
       "      <td>Male</td>\n",
       "      <td>44</td>\n",
       "      <td>4</td>\n",
       "      <td>142051.07</td>\n",
       "      <td>2</td>\n",
       "      <td>0</td>\n",
       "      <td>1</td>\n",
       "      <td>74940.50</td>\n",
       "      <td>0</td>\n",
       "    </tr>\n",
       "    <tr>\n",
       "      <th>9</th>\n",
       "      <td>10</td>\n",
       "      <td>15592389</td>\n",
       "      <td>H?</td>\n",
       "      <td>684</td>\n",
       "      <td>France</td>\n",
       "      <td>Male</td>\n",
       "      <td>27</td>\n",
       "      <td>2</td>\n",
       "      <td>134603.88</td>\n",
       "      <td>1</td>\n",
       "      <td>1</td>\n",
       "      <td>1</td>\n",
       "      <td>71725.73</td>\n",
       "      <td>0</td>\n",
       "    </tr>\n",
       "  </tbody>\n",
       "</table>\n",
       "</div>"
      ],
      "text/plain": [
       "   RowNumber  CustomerId   Surname  CreditScore Geography  Gender  Age  \\\n",
       "0          1    15634602  Hargrave          619    France  Female   42   \n",
       "1          2    15647311      Hill          608     Spain  Female   41   \n",
       "2          3    15619304      Onio          502    France  Female   42   \n",
       "3          4    15701354      Boni          699    France  Female   39   \n",
       "4          5    15737888  Mitchell          850     Spain  Female   43   \n",
       "5          6    15574012       Chu          645     Spain    Male   44   \n",
       "6          7    15592531  Bartlett          822    France    Male   50   \n",
       "7          8    15656148    Obinna          376   Germany  Female   29   \n",
       "8          9    15792365        He          501    France    Male   44   \n",
       "9         10    15592389        H?          684    France    Male   27   \n",
       "\n",
       "   Tenure    Balance  NumOfProducts  HasCrCard  IsActiveMember  \\\n",
       "0       2       0.00              1          1               1   \n",
       "1       1   83807.86              1          0               1   \n",
       "2       8  159660.80              3          1               0   \n",
       "3       1       0.00              2          0               0   \n",
       "4       2  125510.82              1          1               1   \n",
       "5       8  113755.78              2          1               0   \n",
       "6       7       0.00              2          1               1   \n",
       "7       4  115046.74              4          1               0   \n",
       "8       4  142051.07              2          0               1   \n",
       "9       2  134603.88              1          1               1   \n",
       "\n",
       "   EstimatedSalary  Exited  \n",
       "0        101348.88       1  \n",
       "1        112542.58       0  \n",
       "2        113931.57       1  \n",
       "3         93826.63       0  \n",
       "4         79084.10       0  \n",
       "5        149756.71       1  \n",
       "6         10062.80       0  \n",
       "7        119346.88       1  \n",
       "8         74940.50       0  \n",
       "9         71725.73       0  "
      ]
     },
     "execution_count": 14,
     "metadata": {},
     "output_type": "execute_result"
    }
   ],
   "source": [
    "## Bibliotecas para manipulação de dados e visualização gráfica\n",
    "import numpy as np\n",
    "import pandas as pd\n",
    "import matplotlib.pyplot as plt\n",
    "import seaborn as sns\n",
    "\n",
    "import warnings\n",
    "warnings.simplefilter('ignore')\n",
    "\n",
    "## Modificando o diretório do trabalho\n",
    "import os \n",
    "path = r'C:\\Users\\cador\\OneDrive\\Área de Trabalho\\Projetos Github\\DS Project - Churn'\n",
    "os.chdir(path)\n",
    "\n",
    "dset = pd.read_csv('Churn.csv', sep = ',')\n",
    "\n",
    "# Verificação dos dados no início da tabela\n",
    "dset.head(10)"
   ]
  },
  {
   "cell_type": "markdown",
   "metadata": {},
   "source": [
    "## Análise exploratória inicial do banco de dados\n",
    "\n",
    "- Dimensão de linhas e colunas da base de dados;\n",
    "- Variáveis independentes do problema;\n",
    "- Classes existentes na coluna _Exited_ - Variável dependente;\n",
    "- Verificação de valores faltantes (NaN);\n",
    "- Informações gerais sobre o dataset."
   ]
  },
  {
   "cell_type": "code",
   "execution_count": 15,
   "metadata": {},
   "outputs": [
    {
     "name": "stdout",
     "output_type": "stream",
     "text": [
      "Quantidade de linhas: 10000\n",
      "\n",
      "Quantidade de colunas: 14\n",
      "\n",
      "Variáveis do problema: \n",
      "['RowNumber', 'CustomerId', 'Surname', 'CreditScore', 'Geography', 'Gender', 'Age', 'Tenure', 'Balance', 'NumOfProducts', 'HasCrCard', 'IsActiveMember', 'EstimatedSalary']\n",
      "\n",
      "Classes existentes: \n",
      "[1 0]\n",
      "\n",
      "<class 'pandas.core.frame.DataFrame'>\n",
      "RangeIndex: 10000 entries, 0 to 9999\n",
      "Data columns (total 14 columns):\n",
      " #   Column           Non-Null Count  Dtype  \n",
      "---  ------           --------------  -----  \n",
      " 0   RowNumber        10000 non-null  int64  \n",
      " 1   CustomerId       10000 non-null  int64  \n",
      " 2   Surname          10000 non-null  object \n",
      " 3   CreditScore      10000 non-null  int64  \n",
      " 4   Geography        10000 non-null  object \n",
      " 5   Gender           10000 non-null  object \n",
      " 6   Age              10000 non-null  int64  \n",
      " 7   Tenure           10000 non-null  int64  \n",
      " 8   Balance          10000 non-null  float64\n",
      " 9   NumOfProducts    10000 non-null  int64  \n",
      " 10  HasCrCard        10000 non-null  int64  \n",
      " 11  IsActiveMember   10000 non-null  int64  \n",
      " 12  EstimatedSalary  10000 non-null  float64\n",
      " 13  Exited           10000 non-null  int64  \n",
      "dtypes: float64(2), int64(9), object(3)\n",
      "memory usage: 1.1+ MB\n"
     ]
    }
   ],
   "source": [
    "## Análise preliminar dos dados\n",
    "\n",
    "print(f'Quantidade de linhas: {dset.shape[0]}\\n')\n",
    "print(f'Quantidade de colunas: {dset.shape[1]}\\n')\n",
    "\n",
    "# Variáveis do problema\n",
    "print(f'Variáveis do problema: \\n{dset[dset.columns[:-1]].columns.tolist()}\\n')\n",
    "print(f'Classes existentes: \\n{dset[dset.columns[-1]].unique()}\\n')\n",
    "\n",
    "# Verificando missing values (NaN)\n",
    "dset.isnull().sum() \n",
    "\n",
    "# Verificando características do dataset\n",
    "dset.info()"
   ]
  },
  {
   "cell_type": "markdown",
   "metadata": {},
   "source": [
    "### Comentários\n",
    "\n",
    "- A base de dados possui dados suficientes para treinamento, validação e teste;\n",
    "- Não há existência de valores ausentes;\n",
    "- Apresenta-se como um problema de classificação binário, já que a coluna _Exited_ possui apenas duas classes existentes;\n",
    "- As colunas possuem dados de dois tipos: _strings_ e numéricos (inteiros e decimais)."
   ]
  },
  {
   "cell_type": "markdown",
   "metadata": {},
   "source": [
    "## Pré-tratamento dos dados\n",
    "\n",
    "- Eliminação das colunas irrelevantes para o problema (características individuais dos clientes);\n",
    "- Separação da variável dependente (_Exited_);\n",
    "- Análise das variáveis contínuas e categóricas."
   ]
  },
  {
   "cell_type": "code",
   "execution_count": 42,
   "metadata": {},
   "outputs": [
    {
     "data": {
      "text/html": [
       "<div>\n",
       "<style scoped>\n",
       "    .dataframe tbody tr th:only-of-type {\n",
       "        vertical-align: middle;\n",
       "    }\n",
       "\n",
       "    .dataframe tbody tr th {\n",
       "        vertical-align: top;\n",
       "    }\n",
       "\n",
       "    .dataframe thead th {\n",
       "        text-align: right;\n",
       "    }\n",
       "</style>\n",
       "<table border=\"1\" class=\"dataframe\">\n",
       "  <thead>\n",
       "    <tr style=\"text-align: right;\">\n",
       "      <th></th>\n",
       "      <th>NumOfProducts</th>\n",
       "      <th>Geography</th>\n",
       "      <th>Gender</th>\n",
       "      <th>IsActiveMember</th>\n",
       "      <th>Tenure</th>\n",
       "      <th>HasCrCard</th>\n",
       "    </tr>\n",
       "  </thead>\n",
       "  <tbody>\n",
       "    <tr>\n",
       "      <th>0</th>\n",
       "      <td>1</td>\n",
       "      <td>France</td>\n",
       "      <td>Female</td>\n",
       "      <td>1</td>\n",
       "      <td>2</td>\n",
       "      <td>1</td>\n",
       "    </tr>\n",
       "    <tr>\n",
       "      <th>1</th>\n",
       "      <td>1</td>\n",
       "      <td>Spain</td>\n",
       "      <td>Female</td>\n",
       "      <td>1</td>\n",
       "      <td>1</td>\n",
       "      <td>0</td>\n",
       "    </tr>\n",
       "    <tr>\n",
       "      <th>2</th>\n",
       "      <td>3</td>\n",
       "      <td>France</td>\n",
       "      <td>Female</td>\n",
       "      <td>0</td>\n",
       "      <td>8</td>\n",
       "      <td>1</td>\n",
       "    </tr>\n",
       "    <tr>\n",
       "      <th>3</th>\n",
       "      <td>2</td>\n",
       "      <td>France</td>\n",
       "      <td>Female</td>\n",
       "      <td>0</td>\n",
       "      <td>1</td>\n",
       "      <td>0</td>\n",
       "    </tr>\n",
       "    <tr>\n",
       "      <th>4</th>\n",
       "      <td>1</td>\n",
       "      <td>Spain</td>\n",
       "      <td>Female</td>\n",
       "      <td>1</td>\n",
       "      <td>2</td>\n",
       "      <td>1</td>\n",
       "    </tr>\n",
       "  </tbody>\n",
       "</table>\n",
       "</div>"
      ],
      "text/plain": [
       "   NumOfProducts Geography  Gender  IsActiveMember  Tenure  HasCrCard\n",
       "0              1    France  Female               1       2          1\n",
       "1              1     Spain  Female               1       1          0\n",
       "2              3    France  Female               0       8          1\n",
       "3              2    France  Female               0       1          0\n",
       "4              1     Spain  Female               1       2          1"
      ]
     },
     "metadata": {},
     "output_type": "display_data"
    },
    {
     "data": {
      "text/html": [
       "<div>\n",
       "<style scoped>\n",
       "    .dataframe tbody tr th:only-of-type {\n",
       "        vertical-align: middle;\n",
       "    }\n",
       "\n",
       "    .dataframe tbody tr th {\n",
       "        vertical-align: top;\n",
       "    }\n",
       "\n",
       "    .dataframe thead th {\n",
       "        text-align: right;\n",
       "    }\n",
       "</style>\n",
       "<table border=\"1\" class=\"dataframe\">\n",
       "  <thead>\n",
       "    <tr style=\"text-align: right;\">\n",
       "      <th></th>\n",
       "      <th>Balance</th>\n",
       "      <th>CreditScore</th>\n",
       "      <th>Age</th>\n",
       "      <th>EstimatedSalary</th>\n",
       "    </tr>\n",
       "  </thead>\n",
       "  <tbody>\n",
       "    <tr>\n",
       "      <th>0</th>\n",
       "      <td>0.00</td>\n",
       "      <td>619</td>\n",
       "      <td>42</td>\n",
       "      <td>101348.88</td>\n",
       "    </tr>\n",
       "    <tr>\n",
       "      <th>1</th>\n",
       "      <td>83807.86</td>\n",
       "      <td>608</td>\n",
       "      <td>41</td>\n",
       "      <td>112542.58</td>\n",
       "    </tr>\n",
       "    <tr>\n",
       "      <th>2</th>\n",
       "      <td>159660.80</td>\n",
       "      <td>502</td>\n",
       "      <td>42</td>\n",
       "      <td>113931.57</td>\n",
       "    </tr>\n",
       "    <tr>\n",
       "      <th>3</th>\n",
       "      <td>0.00</td>\n",
       "      <td>699</td>\n",
       "      <td>39</td>\n",
       "      <td>93826.63</td>\n",
       "    </tr>\n",
       "    <tr>\n",
       "      <th>4</th>\n",
       "      <td>125510.82</td>\n",
       "      <td>850</td>\n",
       "      <td>43</td>\n",
       "      <td>79084.10</td>\n",
       "    </tr>\n",
       "  </tbody>\n",
       "</table>\n",
       "</div>"
      ],
      "text/plain": [
       "     Balance  CreditScore  Age  EstimatedSalary\n",
       "0       0.00          619   42        101348.88\n",
       "1   83807.86          608   41        112542.58\n",
       "2  159660.80          502   42        113931.57\n",
       "3       0.00          699   39         93826.63\n",
       "4  125510.82          850   43         79084.10"
      ]
     },
     "metadata": {},
     "output_type": "display_data"
    }
   ],
   "source": [
    "## Pré-tratamento dos dados\n",
    "\n",
    "# Eliminando variáveis que não são úteis para o problema\n",
    "churn = dset.drop(columns = ['RowNumber', 'CustomerId', 'Surname'])\n",
    "\n",
    "# Criando variáveis dependentes e independentes\n",
    "Y = churn['Exited']               # isolando variável de saída 'Exited' (variável resposta)\n",
    "X = churn\n",
    "X = churn.drop('Exited', axis = 1) # Retirando a coluna da variável de saída \n",
    "\n",
    "# Separando variáveis contínuas e categóricas\n",
    "x_cont = ['CreditScore', 'Age', 'Balance', 'EstimatedSalary'] # variáveis numéricas\n",
    "\n",
    "# Variáveis categóricas \n",
    "x_categ = list(set(X) - set(x_cont)) # listagem das colunas com variáveis categóricas  \n",
    "X_dummies = X[x_categ]               # dataframe contendo informações das variáveis categóricas \n",
    "X_cont = X[list(set(x_cont))]        # dataframe contendo informações das variáveis numéricas \n",
    "\n",
    "# Visualização das matrizes individuais criadas\n",
    "display(X_dummies.head(5))\n",
    "display(X_cont.head(5))"
   ]
  },
  {
   "cell_type": "markdown",
   "metadata": {},
   "source": [
    "### Análise Exploratória e Tratar Outliers\n",
    "\n",
    "- Análise das features:\n",
    "    1. Ver a correlação entre as features e decidir se todas serão mantidas\n",
    "    2. Investigação de outliers (usaremos como regra, valores abaixo de Q1 - 1.5 x Amplitude e valores acima de Q3 + 1.5 x Amplitude).<br> Amplitude = Q3 - Q1, sendo Q1 = primeiro quartil e Q3 = terceiro quartil;\n",
    "    3. Confirmar se todas as features fazem realmente sentido para o problema de negócio. \n",
    "    \n",
    "**Cuidado**: A exclusão do outlier pode fornecer informações importantes para o negócio. A condição de outlier pode fornecer características importantes para o modelo de classificação."
   ]
  },
  {
   "cell_type": "code",
   "execution_count": 17,
   "metadata": {},
   "outputs": [
    {
     "data": {
      "text/plain": [
       "CreditScore       -0.027094\n",
       "Age                0.285323\n",
       "Tenure            -0.014001\n",
       "Balance            0.118533\n",
       "NumOfProducts     -0.047820\n",
       "HasCrCard         -0.007138\n",
       "IsActiveMember    -0.156128\n",
       "EstimatedSalary    0.012097\n",
       "Exited             1.000000\n",
       "Name: Exited, dtype: float64"
      ]
     },
     "metadata": {},
     "output_type": "display_data"
    },
    {
     "data": {
      "text/plain": [
       "<AxesSubplot:>"
      ]
     },
     "execution_count": 17,
     "metadata": {},
     "output_type": "execute_result"
    },
    {
     "data": {
      "image/png": "[encoded data removed]",
      "text/plain": [
       "<Figure size 1080x720 with 2 Axes>"
      ]
     },
     "metadata": {
      "needs_background": "light"
     },
     "output_type": "display_data"
    }
   ],
   "source": [
    "# Matriz de correlação\n",
    "correl = churn.corr()\n",
    "display(correl['Exited'])\n",
    "\n",
    "plt.figure(figsize = (15, 10))\n",
    "sns.heatmap(correl, annot = True, cmap = 'Greens')"
   ]
  },
  {
   "cell_type": "markdown",
   "metadata": {},
   "source": [
    "### Comentários\n",
    "\n",
    "- A matriz de correlação não indica valores para correlação acentuada entre as variáveis presentes. Inicialmente, não será efetuada nenhuma exclusão de colunas baseadas apenas nessa análise;\n",
    "- O ponto maior destaque é a correlação entre a variável _Exited_ e _Age_."
   ]
  },
  {
   "cell_type": "markdown",
   "metadata": {},
   "source": [
    "### Definição de Funções para Análise de Outliers\n",
    "\n",
    "Definição de funções para auxiliar na análise de outliers das colunas e realização dos gráficos:"
   ]
  },
  {
   "cell_type": "code",
   "execution_count": 18,
   "metadata": {},
   "outputs": [],
   "source": [
    "def limites(coluna):\n",
    "    q1 = coluna.quantile(0.25)\n",
    "    q3 = coluna.quantile(0.75)\n",
    "    amplitude = q3 - q1\n",
    "    return q1 - 1.5 * amplitude, q3 + 1.5 * amplitude\n",
    "\n",
    "def excluir_outliers(df, nome_coluna):\n",
    "    qtde_linhas = df.shape[0]\n",
    "    lim_inf, lim_sup = limites(df[nome_coluna])\n",
    "    df = df.loc[(df[nome_coluna] >= lim_inf) & (df[nome_coluna] <= lim_sup), :]\n",
    "    linhas_removidas = qtde_linhas - df.shape[0]\n",
    "    return df,  linhas_removidas"
   ]
  },
  {
   "cell_type": "code",
   "execution_count": 19,
   "metadata": {},
   "outputs": [],
   "source": [
    "def diagrama_caixa(coluna):\n",
    "    fig, (ax1, ax2) = plt.subplots(1, 2)\n",
    "    fig.set_size_inches(15, 5)\n",
    "    sns.boxplot(x = coluna, ax = ax1)\n",
    "    ax2.set_xlim(limites(coluna))\n",
    "    sns.boxplot(x = coluna, ax = ax2)\n",
    "    \n",
    "def histograma(coluna):\n",
    "    plt.figure(figsize = (15, 5))\n",
    "    sns.distplot(coluna, hist = True)\n",
    "\n",
    "def grafico_barra(coluna):  \n",
    "    plt.figure(figsize = (15, 5))\n",
    "    ax = sns.barplot(x = coluna.value_counts().index, y = coluna.value_counts())\n",
    "    ax.set_xlim(limites(coluna))"
   ]
  },
  {
   "cell_type": "markdown",
   "metadata": {},
   "source": [
    "### Análise da variável _Balance_"
   ]
  },
  {
   "cell_type": "code",
   "execution_count": 43,
   "metadata": {},
   "outputs": [
    {
     "data": {
      "image/png": "[encoded data removed]",
      "text/plain": [
       "<Figure size 1080x360 with 2 Axes>"
      ]
     },
     "metadata": {
      "needs_background": "light"
     },
     "output_type": "display_data"
    },
    {
     "data": {
      "image/png": "[encoded data removed]",
      "text/plain": [
       "<Figure size 1080x360 with 1 Axes>"
      ]
     },
     "metadata": {
      "needs_background": "light"
     },
     "output_type": "display_data"
    }
   ],
   "source": [
    "diagrama_caixa(X_cont['Balance'])\n",
    "histograma(X_cont['Balance'])"
   ]
  },
  {
   "cell_type": "code",
   "execution_count": 44,
   "metadata": {},
   "outputs": [
    {
     "name": "stdout",
     "output_type": "stream",
     "text": [
      "0 linhas removidas\n"
     ]
    }
   ],
   "source": [
    "X_cont, linhas_removidas = excluir_outliers(X_cont, 'Balance')\n",
    "print('{} linhas removidas'.format(linhas_removidas))"
   ]
  },
  {
   "cell_type": "markdown",
   "metadata": {},
   "source": [
    "- Não há a presença de _outliers_ para essa variável. A distribuição evidenciada pelo histograma mostra uma concentração de valores próxima ao valor nulo (0), o que pode influenciar diretamente na retenção ou saída desse cliente dentre do banco."
   ]
  },
  {
   "cell_type": "markdown",
   "metadata": {},
   "source": [
    "### Análise da variável _Credit Score_"
   ]
  },
  {
   "cell_type": "code",
   "execution_count": 22,
   "metadata": {
    "scrolled": false
   },
   "outputs": [
    {
     "data": {
      "image/png": "[encoded data removed]",
      "text/plain": [
       "<Figure size 1080x360 with 2 Axes>"
      ]
     },
     "metadata": {
      "needs_background": "light"
     },
     "output_type": "display_data"
    },
    {
     "data": {
      "image/png": "[encoded data removed]",
      "text/plain": [
       "<Figure size 1080x360 with 1 Axes>"
      ]
     },
     "metadata": {
      "needs_background": "light"
     },
     "output_type": "display_data"
    }
   ],
   "source": [
    "diagrama_caixa(X_cont['CreditScore'])\n",
    "histograma(X_cont['CreditScore'])"
   ]
  },
  {
   "cell_type": "markdown",
   "metadata": {},
   "source": [
    "A quantidade de outliers é baixa, e a distribuição está próxima do limite inferior da variável _Credit Score_. Dessa maneira, são serão excluídas as informações já que o dataset não possui uma quantidade muito grande de dados disponíveis."
   ]
  },
  {
   "cell_type": "markdown",
   "metadata": {},
   "source": [
    "### Análise da variável _Estimated Salary_"
   ]
  },
  {
   "cell_type": "code",
   "execution_count": 45,
   "metadata": {},
   "outputs": [
    {
     "data": {
      "image/png": "[encoded data removed]",
      "text/plain": [
       "<Figure size 1080x360 with 2 Axes>"
      ]
     },
     "metadata": {
      "needs_background": "light"
     },
     "output_type": "display_data"
    },
    {
     "data": {
      "image/png": "[encoded data removed]",
      "text/plain": [
       "<Figure size 1080x360 with 1 Axes>"
      ]
     },
     "metadata": {
      "needs_background": "light"
     },
     "output_type": "display_data"
    }
   ],
   "source": [
    "diagrama_caixa(X_cont['EstimatedSalary'])\n",
    "histograma(X_cont['EstimatedSalary'])"
   ]
  },
  {
   "cell_type": "markdown",
   "metadata": {},
   "source": [
    "- A variável _Estimated Salary_ também apresenta uma distribuição comportada, sem a presenção de outliers evidenciado pelo boxplot. O resultado apresentado pelo histograma evidencia uma distribuição aproximadamente uniforme dentro do intervalo de valores. "
   ]
  },
  {
   "cell_type": "markdown",
   "metadata": {},
   "source": [
    "### Análise da variável _Age_"
   ]
  },
  {
   "cell_type": "code",
   "execution_count": 24,
   "metadata": {},
   "outputs": [
    {
     "data": {
      "image/png": "[encoded data removed]",
      "text/plain": [
       "<Figure size 1080x360 with 2 Axes>"
      ]
     },
     "metadata": {
      "needs_background": "light"
     },
     "output_type": "display_data"
    },
    {
     "data": {
      "image/png": "[encoded data removed]",
      "text/plain": [
       "<Figure size 1080x360 with 1 Axes>"
      ]
     },
     "metadata": {
      "needs_background": "light"
     },
     "output_type": "display_data"
    }
   ],
   "source": [
    "diagrama_caixa(X_cont['Age'])\n",
    "histograma(X_cont['Age'])"
   ]
  },
  {
   "cell_type": "markdown",
   "metadata": {},
   "source": [
    "Observa-se uma presença maior de outliers para a variável _Age_, contudo esses dados são serão excluídos por dois motivos principais:\n",
    "- Quantidade limitada de informações no dataset;\n",
    "- A variável _Age_ apresentou a maior correlação com a variável _Exited_. A remoção desses outliers podem retirar informações importantes em relação ao problema de classificação proposto."
   ]
  },
  {
   "cell_type": "markdown",
   "metadata": {},
   "source": [
    "### Análise da variável _Exited_"
   ]
  },
  {
   "cell_type": "code",
   "execution_count": 46,
   "metadata": {},
   "outputs": [
    {
     "data": {
      "text/plain": [
       "0    7963\n",
       "1    2037\n",
       "Name: Exited, dtype: int64"
      ]
     },
     "metadata": {},
     "output_type": "display_data"
    },
    {
     "data": {
      "text/plain": [
       "Text(0.5, 1.0, 'Análise de distribuição de frequência da Variável Exited')"
      ]
     },
     "execution_count": 46,
     "metadata": {},
     "output_type": "execute_result"
    },
    {
     "data": {
      "image/png": "[encoded data removed]",
      "text/plain": [
       "<Figure size 576x432 with 1 Axes>"
      ]
     },
     "metadata": {
      "needs_background": "light"
     },
     "output_type": "display_data"
    }
   ],
   "source": [
    "display(churn['Exited'].value_counts())\n",
    "\n",
    "fig = plt.figure(figsize = (8,6))\n",
    "sns.histplot(data = churn['Exited'], stat = 'count',discrete = True, shrink = .8)\n",
    "plt.title('Análise de distribuição de frequência da Variável Exited', \n",
    "         fontsize = 15, weight = 'bold')"
   ]
  },
  {
   "cell_type": "markdown",
   "metadata": {},
   "source": [
    "- É interessante destacar que a variável dependente possui um forte desbalanceamento dos dados, como evidenciado pelo gráfico de barras e a contagem de valores. **Possivelmente, esse desequilíbrio entre as classes pode afetar o desempenho do treinamento e previsão dos modelos, especialmente para classe 1. Por isso, pode ser interesse testar o balanceamento das classes durante a avaliação dos modelos.**"
   ]
  },
  {
   "cell_type": "markdown",
   "metadata": {},
   "source": [
    "### Análise final\n",
    "\n",
    "- As variáveis categóricas pertencentes à base de dados original ('IsActiveMember', 'Geography', 'NumbofProducts', 'Gender', 'HasCrCard') não possuem muitas classes e podem ser importantes para o modelo final. Após isso, será analisada a importância de cada variável para o modelo escolhido e, a partir disso, pode ser feita a exclusão de alguma coluna irrelevante para o problema de classificação.\n",
    "- Os ajustes finais do dataset (_enconding_ e normalização de variáveis numéricas) serão feitos para realização etapa de treinamento/validação e testes."
   ]
  },
  {
   "cell_type": "markdown",
   "metadata": {},
   "source": [
    "### Enconding \n",
    "\n",
    "- Features de Valores True or False ou classificação binária ('Gender') precisam ser transformados em variáveis numéricas;\n",
    "- Features de categorias serão tratados pelo método de variáveis dummies.\n",
    "**Obs: A variável dependente _Exited_ já está devidamente preenchida e, portanto, não necessita a etapa de enconding.**\n",
    "\n",
    "### Normalização de variáveis numéricas contínuas\n",
    "\n",
    "- Evitar distorções por diferenças de escala numérica durante o treinamento do modelo."
   ]
  },
  {
   "cell_type": "code",
   "execution_count": 47,
   "metadata": {},
   "outputs": [
    {
     "data": {
      "text/html": [
       "<div>\n",
       "<style scoped>\n",
       "    .dataframe tbody tr th:only-of-type {\n",
       "        vertical-align: middle;\n",
       "    }\n",
       "\n",
       "    .dataframe tbody tr th {\n",
       "        vertical-align: top;\n",
       "    }\n",
       "\n",
       "    .dataframe thead th {\n",
       "        text-align: right;\n",
       "    }\n",
       "</style>\n",
       "<table border=\"1\" class=\"dataframe\">\n",
       "  <thead>\n",
       "    <tr style=\"text-align: right;\">\n",
       "      <th></th>\n",
       "      <th>CreditScore</th>\n",
       "      <th>Gender</th>\n",
       "      <th>Age</th>\n",
       "      <th>Tenure</th>\n",
       "      <th>Balance</th>\n",
       "      <th>HasCrCard</th>\n",
       "      <th>IsActiveMember</th>\n",
       "      <th>EstimatedSalary</th>\n",
       "      <th>Geography_France</th>\n",
       "      <th>Geography_Germany</th>\n",
       "      <th>Geography_Spain</th>\n",
       "      <th>NumOfProducts_1</th>\n",
       "      <th>NumOfProducts_2</th>\n",
       "      <th>NumOfProducts_3</th>\n",
       "      <th>NumOfProducts_4</th>\n",
       "    </tr>\n",
       "  </thead>\n",
       "  <tbody>\n",
       "    <tr>\n",
       "      <th>0</th>\n",
       "      <td>0.538</td>\n",
       "      <td>0</td>\n",
       "      <td>0.324324</td>\n",
       "      <td>2</td>\n",
       "      <td>0.000000</td>\n",
       "      <td>1</td>\n",
       "      <td>1</td>\n",
       "      <td>0.506735</td>\n",
       "      <td>1</td>\n",
       "      <td>0</td>\n",
       "      <td>0</td>\n",
       "      <td>1</td>\n",
       "      <td>0</td>\n",
       "      <td>0</td>\n",
       "      <td>0</td>\n",
       "    </tr>\n",
       "    <tr>\n",
       "      <th>1</th>\n",
       "      <td>0.516</td>\n",
       "      <td>0</td>\n",
       "      <td>0.310811</td>\n",
       "      <td>1</td>\n",
       "      <td>0.334031</td>\n",
       "      <td>0</td>\n",
       "      <td>1</td>\n",
       "      <td>0.562709</td>\n",
       "      <td>0</td>\n",
       "      <td>0</td>\n",
       "      <td>1</td>\n",
       "      <td>1</td>\n",
       "      <td>0</td>\n",
       "      <td>0</td>\n",
       "      <td>0</td>\n",
       "    </tr>\n",
       "    <tr>\n",
       "      <th>2</th>\n",
       "      <td>0.304</td>\n",
       "      <td>0</td>\n",
       "      <td>0.324324</td>\n",
       "      <td>8</td>\n",
       "      <td>0.636357</td>\n",
       "      <td>1</td>\n",
       "      <td>0</td>\n",
       "      <td>0.569654</td>\n",
       "      <td>1</td>\n",
       "      <td>0</td>\n",
       "      <td>0</td>\n",
       "      <td>0</td>\n",
       "      <td>0</td>\n",
       "      <td>1</td>\n",
       "      <td>0</td>\n",
       "    </tr>\n",
       "    <tr>\n",
       "      <th>3</th>\n",
       "      <td>0.698</td>\n",
       "      <td>0</td>\n",
       "      <td>0.283784</td>\n",
       "      <td>1</td>\n",
       "      <td>0.000000</td>\n",
       "      <td>0</td>\n",
       "      <td>0</td>\n",
       "      <td>0.469120</td>\n",
       "      <td>1</td>\n",
       "      <td>0</td>\n",
       "      <td>0</td>\n",
       "      <td>0</td>\n",
       "      <td>1</td>\n",
       "      <td>0</td>\n",
       "      <td>0</td>\n",
       "    </tr>\n",
       "    <tr>\n",
       "      <th>4</th>\n",
       "      <td>1.000</td>\n",
       "      <td>0</td>\n",
       "      <td>0.337838</td>\n",
       "      <td>2</td>\n",
       "      <td>0.500246</td>\n",
       "      <td>1</td>\n",
       "      <td>1</td>\n",
       "      <td>0.395400</td>\n",
       "      <td>0</td>\n",
       "      <td>0</td>\n",
       "      <td>1</td>\n",
       "      <td>1</td>\n",
       "      <td>0</td>\n",
       "      <td>0</td>\n",
       "      <td>0</td>\n",
       "    </tr>\n",
       "    <tr>\n",
       "      <th>5</th>\n",
       "      <td>0.590</td>\n",
       "      <td>1</td>\n",
       "      <td>0.351351</td>\n",
       "      <td>8</td>\n",
       "      <td>0.453394</td>\n",
       "      <td>1</td>\n",
       "      <td>0</td>\n",
       "      <td>0.748797</td>\n",
       "      <td>0</td>\n",
       "      <td>0</td>\n",
       "      <td>1</td>\n",
       "      <td>0</td>\n",
       "      <td>1</td>\n",
       "      <td>0</td>\n",
       "      <td>0</td>\n",
       "    </tr>\n",
       "    <tr>\n",
       "      <th>6</th>\n",
       "      <td>0.944</td>\n",
       "      <td>1</td>\n",
       "      <td>0.432432</td>\n",
       "      <td>7</td>\n",
       "      <td>0.000000</td>\n",
       "      <td>1</td>\n",
       "      <td>1</td>\n",
       "      <td>0.050261</td>\n",
       "      <td>1</td>\n",
       "      <td>0</td>\n",
       "      <td>0</td>\n",
       "      <td>0</td>\n",
       "      <td>1</td>\n",
       "      <td>0</td>\n",
       "      <td>0</td>\n",
       "    </tr>\n",
       "    <tr>\n",
       "      <th>7</th>\n",
       "      <td>0.052</td>\n",
       "      <td>0</td>\n",
       "      <td>0.148649</td>\n",
       "      <td>4</td>\n",
       "      <td>0.458540</td>\n",
       "      <td>1</td>\n",
       "      <td>0</td>\n",
       "      <td>0.596733</td>\n",
       "      <td>0</td>\n",
       "      <td>1</td>\n",
       "      <td>0</td>\n",
       "      <td>0</td>\n",
       "      <td>0</td>\n",
       "      <td>0</td>\n",
       "      <td>1</td>\n",
       "    </tr>\n",
       "    <tr>\n",
       "      <th>8</th>\n",
       "      <td>0.302</td>\n",
       "      <td>1</td>\n",
       "      <td>0.351351</td>\n",
       "      <td>4</td>\n",
       "      <td>0.566170</td>\n",
       "      <td>0</td>\n",
       "      <td>1</td>\n",
       "      <td>0.374680</td>\n",
       "      <td>1</td>\n",
       "      <td>0</td>\n",
       "      <td>0</td>\n",
       "      <td>0</td>\n",
       "      <td>1</td>\n",
       "      <td>0</td>\n",
       "      <td>0</td>\n",
       "    </tr>\n",
       "    <tr>\n",
       "      <th>9</th>\n",
       "      <td>0.668</td>\n",
       "      <td>1</td>\n",
       "      <td>0.121622</td>\n",
       "      <td>2</td>\n",
       "      <td>0.536488</td>\n",
       "      <td>1</td>\n",
       "      <td>1</td>\n",
       "      <td>0.358605</td>\n",
       "      <td>1</td>\n",
       "      <td>0</td>\n",
       "      <td>0</td>\n",
       "      <td>1</td>\n",
       "      <td>0</td>\n",
       "      <td>0</td>\n",
       "      <td>0</td>\n",
       "    </tr>\n",
       "  </tbody>\n",
       "</table>\n",
       "</div>"
      ],
      "text/plain": [
       "   CreditScore  Gender       Age  Tenure   Balance  HasCrCard  IsActiveMember  \\\n",
       "0        0.538       0  0.324324       2  0.000000          1               1   \n",
       "1        0.516       0  0.310811       1  0.334031          0               1   \n",
       "2        0.304       0  0.324324       8  0.636357          1               0   \n",
       "3        0.698       0  0.283784       1  0.000000          0               0   \n",
       "4        1.000       0  0.337838       2  0.500246          1               1   \n",
       "5        0.590       1  0.351351       8  0.453394          1               0   \n",
       "6        0.944       1  0.432432       7  0.000000          1               1   \n",
       "7        0.052       0  0.148649       4  0.458540          1               0   \n",
       "8        0.302       1  0.351351       4  0.566170          0               1   \n",
       "9        0.668       1  0.121622       2  0.536488          1               1   \n",
       "\n",
       "   EstimatedSalary  Geography_France  Geography_Germany  Geography_Spain  \\\n",
       "0         0.506735                 1                  0                0   \n",
       "1         0.562709                 0                  0                1   \n",
       "2         0.569654                 1                  0                0   \n",
       "3         0.469120                 1                  0                0   \n",
       "4         0.395400                 0                  0                1   \n",
       "5         0.748797                 0                  0                1   \n",
       "6         0.050261                 1                  0                0   \n",
       "7         0.596733                 0                  1                0   \n",
       "8         0.374680                 1                  0                0   \n",
       "9         0.358605                 1                  0                0   \n",
       "\n",
       "   NumOfProducts_1  NumOfProducts_2  NumOfProducts_3  NumOfProducts_4  \n",
       "0                1                0                0                0  \n",
       "1                1                0                0                0  \n",
       "2                0                0                1                0  \n",
       "3                0                1                0                0  \n",
       "4                1                0                0                0  \n",
       "5                0                1                0                0  \n",
       "6                0                1                0                0  \n",
       "7                0                0                0                1  \n",
       "8                0                1                0                0  \n",
       "9                1                0                0                0  "
      ]
     },
     "metadata": {},
     "output_type": "display_data"
    }
   ],
   "source": [
    "## Processamento das variáveis categóricas \n",
    "\n",
    "from sklearn.preprocessing import LabelEncoder, MinMaxScaler\n",
    "\n",
    "# Conversão da coluna categórica ('Gender') com atribuição de números inteiros para\n",
    "# variáveis 'Masculino' e 'Feminino'\n",
    "\n",
    "lab_enc = LabelEncoder()\n",
    "X['Gender'] = lab_enc.fit_transform(X['Gender']) \n",
    "\n",
    "# 'Female' -  Variável binária 0\n",
    "# 'Male' - Variável binária 1\n",
    "\n",
    "# A função get_dummies() transforma uma variável em variável dummy(), criando\n",
    "# novas colunas para transformar a variável em binária. \n",
    "\n",
    "X_final = pd.get_dummies(data = X, columns = ['Geography','NumOfProducts'])\n",
    "\n",
    "# Método Minimax é definido como:\n",
    "    \n",
    "    # valor_padronizado = (valor - Coluna.min)/(Coluna.max - Coluna.min)\n",
    "    # As variáveis contínuas são classificadas em uma escala entre 0 e 1 ]\n",
    "    # Uniformizar a escala das variáveis numéricas do dataset\n",
    "    \n",
    "scaler = MinMaxScaler()\n",
    "X_final[x_cont] = scaler.fit_transform(X_final[x_cont])\n",
    "display(X_final.head(10))"
   ]
  },
  {
   "cell_type": "markdown",
   "metadata": {},
   "source": [
    "### Modelos de previsão e métricas de avaliação\n",
    "\n",
    "- **Métricas de Avaliação**\n",
    "\n",
    "**1) Acurácia** = representa o número correto de previsões corretas, ou seja, identificação correta de classes.\n",
    "\n",
    "**2) Precisão** = métrica que traz a informação da quantidade de observações classificadas como verdadeiras que realmente são verdadeiras. \n",
    "\n",
    "**3) Recall (Sensibilidade)** = proporção dos verdadeiros positivos entre todas as observações que realmente são positivas no conjunto de dados. \n",
    "\n",
    "**4) F1-Score** = média harmônica entre o recall e a precisão, sendo utilizada quando temos classes desbalanceadas.\n",
    "\n",
    "$F1-Score = \\frac{2 * (Precisão * Recall)}{Precisão + Recall}$\n",
    "    \n",
    "- **Modelos**\n",
    "\n",
    "**1) Regressão Logística**\n",
    "\n",
    "**2) Random Forest**"
   ]
  },
  {
   "cell_type": "markdown",
   "metadata": {},
   "source": [
    "## Algortimo 1 - Regressão Logística"
   ]
  },
  {
   "cell_type": "code",
   "execution_count": 68,
   "metadata": {},
   "outputs": [],
   "source": [
    "#importando pacotes\n",
    "from sklearn.linear_model import LogisticRegression\n",
    "from sklearn.model_selection import GridSearchCV\n",
    "from sklearn.model_selection import train_test_split\n",
    "from sklearn.metrics import confusion_matrix, accuracy_score, precision_score, f1_score, classification_report\n",
    "\n",
    "# Criando os dados de treino e teste\n",
    "x_treino, x_teste, y_treino, y_teste = train_test_split(X_final, Y, test_size = 0.20, random_state = 42)\n",
    "\n",
    "# Importando biblioteca com algoritmo da regressão logística \n",
    "reglog = LogisticRegression()\n",
    "\n",
    "# Realizando a validação cruzada \n",
    "lista_C = list(np.logspace(0,10,50))\n",
    "param_grid = dict(C = lista_C) \n",
    "clf = GridSearchCV(reglog, param_grid, cv = 10, scoring = 'recall')\n",
    "\n",
    "# Ajustando modelo de regressão logística\n",
    "clf.fit(x_treino, y_treino)\n",
    "resultado_reglog = clf.predict(x_teste)"
   ]
  },
  {
   "cell_type": "code",
   "execution_count": 69,
   "metadata": {},
   "outputs": [
    {
     "name": "stdout",
     "output_type": "stream",
     "text": [
      "\n",
      "Acurácia do modelo padrão: 84.3 %\n",
      "\n",
      "\n",
      "Precisão do modelo padrão: 69.1 %\n",
      "\n",
      "Relatório de classificação:\n",
      "               precision    recall  f1-score   support\n",
      "\n",
      "           0       0.86      0.96      0.91      1607\n",
      "           1       0.69      0.36      0.48       393\n",
      "\n",
      "    accuracy                           0.84      2000\n",
      "   macro avg       0.78      0.66      0.69      2000\n",
      "weighted avg       0.83      0.84      0.82      2000\n",
      "\n"
     ]
    },
    {
     "data": {
      "text/plain": [
       "Text(0.5, 257.44, 'Dados preditos')"
      ]
     },
     "execution_count": 69,
     "metadata": {},
     "output_type": "execute_result"
    },
    {
     "data": {
      "image/png": "[encoded data removed]",
      "text/plain": [
       "<Figure size 432x288 with 2 Axes>"
      ]
     },
     "metadata": {
      "needs_background": "light"
     },
     "output_type": "display_data"
    }
   ],
   "source": [
    "# Avaliação e Visualização dos resultados\n",
    "acuracia = accuracy_score(y_teste, resultado_reglog)\n",
    "print('\\nAcurácia do modelo padrão: {:.3} %\\n'.format(acuracia*100))\n",
    "\n",
    "precisao = precision_score(y_teste, resultado_reglog)\n",
    "print('\\nPrecisão do modelo padrão: {:.3} %\\n'.format(precisao*100))\n",
    "\n",
    "class_report = classification_report(y_teste, resultado_reglog)\n",
    "print('Relatório de classificação:\\n', class_report)\n",
    "\n",
    "# Edição dos componentes do gráfico\n",
    "classes = [0,1]\n",
    "fig, ax = plt.subplots()\n",
    "marcadores = np.arange(len(classes))\n",
    "plt.xticks(marcadores, classes)\n",
    "plt.yticks(marcadores, classes)\n",
    "\n",
    "# Criação do mapa de calor\n",
    "matriz_reglog = confusion_matrix(y_teste,resultado_reglog)\n",
    "sns.heatmap(pd.DataFrame(matriz_reglog), annot = True, cmap = 'Greens', fmt = 'g')\n",
    "ax.xaxis.set_label_position('top')\n",
    "plt.tight_layout()\n",
    "plt.title('Matriz Confusão', fontsize = 15)\n",
    "plt.ylabel('Dados teste', fontsize = 12)\n",
    "plt.xlabel('Dados preditos', fontsize = 12)"
   ]
  },
  {
   "cell_type": "markdown",
   "metadata": {},
   "source": [
    "### Comentários\n",
    "\n",
    "- Acurácia do modelo não foi baixa, porém grande parte dos acertos pertence à classe 0, ou seja, pessoas que permaneceram como clientes do banco nessa base de dados;\n",
    "- O parâmetro _recall_ para classe 1 é muito inferior quando comparada à classe 0, o que significa uma baixa capacidade de previsão do modelo para os clientes que realmente cancelaram sua conta. O principal objetivo é identificar a probabilidade de saída de clientes baseado nas características apresentadas e, portanto, não foi efetivo tão efetivo nesse quesito quando comparada à qualidade de previsão dos clientes remanescentes; \n",
    "- Ambos os parâmetros de precisão e _recall_ foram melhores para a classe 0 e, consequentemente, o parâmetro _f1-score_ também foi significativamente superior para essa classe. "
   ]
  },
  {
   "cell_type": "markdown",
   "metadata": {},
   "source": [
    "## Algoritmo 2 - Random Forest"
   ]
  },
  {
   "cell_type": "code",
   "execution_count": 70,
   "metadata": {},
   "outputs": [
    {
     "name": "stdout",
     "output_type": "stream",
     "text": [
      "Fitting 5 folds for each of 512 candidates, totalling 2560 fits\n"
     ]
    }
   ],
   "source": [
    "## Aplicação do algoritmo de Random Forest ##\n",
    "\n",
    "from sklearn.ensemble import RandomForestClassifier\n",
    "\n",
    "# Definindo melhores parâmetros entre as variáveis n_estimator, max_depth e min_samples_leaf\n",
    "parameters = {'n_estimators':[30,40,50,60,70,80,90,100], 'max_depth':[3,4,5,6,7,8,9,10], \n",
    "              'min_samples_leaf':[3,4,5,6,7,8,9,10]}\n",
    "randomforest = RandomForestClassifier(n_jobs=-1)\n",
    "clf2 = GridSearchCV(randomforest, parameters, cv = 5, scoring = 'accuracy', verbose = 1)\n",
    "\n",
    "# Validação cruzada do modelo Random Forest \n",
    "clf2.fit(x_treino, y_treino)\n",
    "random_forest = clf2.predict(x_teste)"
   ]
  },
  {
   "cell_type": "code",
   "execution_count": 71,
   "metadata": {},
   "outputs": [
    {
     "name": "stdout",
     "output_type": "stream",
     "text": [
      "\n",
      "Acurácia do modelo padrão: 86.2 %\n",
      "\n",
      "\n",
      "Precisão do modelo padrão: 75.2 %\n",
      "\n",
      "Relatório de classificação:\n",
      "               precision    recall  f1-score   support\n",
      "\n",
      "           0       0.88      0.96      0.92      1607\n",
      "           1       0.75      0.45      0.56       393\n",
      "\n",
      "    accuracy                           0.86      2000\n",
      "   macro avg       0.81      0.71      0.74      2000\n",
      "weighted avg       0.85      0.86      0.85      2000\n",
      "\n"
     ]
    },
    {
     "data": {
      "text/plain": [
       "Text(0.5, 257.44, 'Dados preditos')"
      ]
     },
     "execution_count": 71,
     "metadata": {},
     "output_type": "execute_result"
    },
    {
     "data": {
      "image/png": "[encoded data removed]",
      "text/plain": [
       "<Figure size 432x288 with 2 Axes>"
      ]
     },
     "metadata": {
      "needs_background": "light"
     },
     "output_type": "display_data"
    }
   ],
   "source": [
    "# Avaliação e Visualização dos resultados\n",
    "acuracia = accuracy_score(y_teste, random_forest)\n",
    "print('\\nAcurácia do modelo padrão: {:.3} %\\n'.format(acuracia*100))\n",
    "\n",
    "precisao = precision_score(y_teste, random_forest)\n",
    "print('\\nPrecisão do modelo padrão: {:.3} %\\n'.format(precisao*100))\n",
    "\n",
    "class_report = classification_report(y_teste, random_forest)\n",
    "print('Relatório de classificação:\\n', class_report)\n",
    "\n",
    "# Edição dos componentes do gráfico\n",
    "classes = [0,1]\n",
    "fig, ax = plt.subplots()\n",
    "marcadores = np.arange(len(classes))\n",
    "plt.xticks(marcadores, classes)\n",
    "plt.yticks(marcadores, classes)\n",
    "\n",
    "# Criação do mapa de calor\n",
    "matriz_rf = confusion_matrix(y_teste, random_forest)\n",
    "sns.heatmap(pd.DataFrame(matriz_reglog), annot = True, cmap = 'Greens', fmt = 'g')\n",
    "ax.xaxis.set_label_position('top')\n",
    "plt.tight_layout()\n",
    "plt.title('Matriz Confusão', fontsize = 15)\n",
    "plt.ylabel('Dados teste', fontsize = 12)\n",
    "plt.xlabel('Dados preditos', fontsize = 12)\n"
   ]
  },
  {
   "cell_type": "markdown",
   "metadata": {},
   "source": [
    "### Comentários\n",
    "\n",
    "- Acurácia do modelo não foi baixa, porém grande parte dos acertos pertence à classe 0, ou seja, pessoas que pertenceram como clientes do banco (desempenho um pouco superior à regressão logística);\n",
    "- Os parâmetros _recall_ e _f1-score_ corroboram as observações anteriormente feitas para a regressão logística. Porém o _random forest_ obteve o melhor desempenho dentro os dois algoritmos, o que seria já esperado devido à sua complexidade e a composição de diferentes estimadores na composição do modelo. \n",
    "- **Naturalmente, a escolha de acordo do modelo de acordo com as condições iniciais seria _Random Forest_ pelo análise conjunta dos parâmetros dado o problema de negócio. Para continuidade do estudo a seguir, será afetuada uma análise para com dados balanceados pela regressão logística e _random forest_.**"
   ]
  },
  {
   "cell_type": "markdown",
   "metadata": {},
   "source": [
    "## Balanceamento de dados\n",
    "\n",
    "- O problema de desbalanceamento de dados pode ser resolvido através de técnicas de reamostragem, atingindo uma amostra baseada no dataset com melhor balanceamento.\n",
    "- Como o dataset possui um número limitado de linhas, utilizaremos a técnica de oversampling replicando as observações da classe em menor quantidade.\n",
    "- **O rebalanceamento deve ser realizado apenas no dataset de treino. Caso essa reamostragem seja feita no dataset de teste, haverá uma alteração dos dados reais para avaliação do algoritmo treinado.**\n",
    "- **P.s: Esse tipo de tratamento é aconselhável para datasets com quantidade limitada de informações e não poder haver perdas em relação ao dados. Por outro lado, adicionar repetições de observações pode enviesar o modelo e piorar o resultado em relação à determinada variável.**"
   ]
  },
  {
   "cell_type": "code",
   "execution_count": 72,
   "metadata": {},
   "outputs": [
    {
     "data": {
      "text/plain": [
       "(12712, 15)"
      ]
     },
     "metadata": {},
     "output_type": "display_data"
    },
    {
     "data": {
      "text/plain": [
       "(12712,)"
      ]
     },
     "metadata": {},
     "output_type": "display_data"
    },
    {
     "data": {
      "text/plain": [
       "1    6356\n",
       "0    6356\n",
       "Name: Exited, dtype: int64"
      ]
     },
     "metadata": {},
     "output_type": "display_data"
    },
    {
     "data": {
      "text/plain": [
       "Text(0.5, 1.0, 'Análise de distribuição de frequência da Variável Exited')"
      ]
     },
     "execution_count": 72,
     "metadata": {},
     "output_type": "execute_result"
    },
    {
     "data": {
      "image/png": "[encoded data removed]",
      "text/plain": [
       "<Figure size 576x432 with 1 Axes>"
      ]
     },
     "metadata": {
      "needs_background": "light"
     },
     "output_type": "display_data"
    }
   ],
   "source": [
    "# Importando biblioteca imblearn \n",
    "from imblearn.over_sampling import RandomOverSampler\n",
    "\n",
    "# Método de balanceamento de dados - Oversampling\n",
    "ros = RandomOverSampler(random_state = 42)\n",
    "\n",
    "# Rebalanceamento do dataset de treino\n",
    "X_resampled, y_resampled = ros.fit_resample(x_treino, y_treino)\n",
    "\n",
    "display(X_resampled.shape)\n",
    "display(y_resampled.shape)\n",
    "\n",
    "display(y_resampled.value_counts())\n",
    "\n",
    "fig = plt.figure(figsize = (8,6))\n",
    "sns.histplot(data = y_resampled, stat = 'count',discrete = True, shrink = .8)\n",
    "plt.title('Análise de distribuição de frequência da Variável Exited', \n",
    "         fontsize = 15, weight = 'bold')"
   ]
  },
  {
   "cell_type": "markdown",
   "metadata": {},
   "source": [
    "## Algoritmo 1 - Regressão Logística "
   ]
  },
  {
   "cell_type": "code",
   "execution_count": 73,
   "metadata": {},
   "outputs": [],
   "source": [
    "# Importando biblioteca com algoritmo da regressão logística \n",
    "reglog = LogisticRegression()\n",
    "\n",
    "# Realizando a validação cruzada \n",
    "lista_C = list(np.logspace(0,10,50))\n",
    "param_grid = dict(C = lista_C) \n",
    "clf = GridSearchCV(reglog, param_grid, cv = 10, scoring = 'recall')\n",
    "\n",
    "# Ajustando modelo de regressão logística\n",
    "clf.fit(X_resampled, y_resampled)\n",
    "resultado_reglog = clf.predict(x_teste)"
   ]
  },
  {
   "cell_type": "code",
   "execution_count": 74,
   "metadata": {},
   "outputs": [
    {
     "name": "stdout",
     "output_type": "stream",
     "text": [
      "\n",
      " Hiperparâmetros otimizados: {'C': 1.0} \n",
      "\n",
      "\n",
      "Acurácia do modelo padrão: 76.4 %\n",
      "\n",
      "\n",
      "Precisão do modelo padrão: 44.3 %\n",
      "\n",
      "Relatório de classificação:\n",
      "               precision    recall  f1-score   support\n",
      "\n",
      "           0       0.93      0.76      0.84      1607\n",
      "           1       0.44      0.77      0.56       393\n",
      "\n",
      "    accuracy                           0.76      2000\n",
      "   macro avg       0.69      0.77      0.70      2000\n",
      "weighted avg       0.84      0.76      0.78      2000\n",
      "\n"
     ]
    },
    {
     "data": {
      "text/plain": [
       "Text(0.5, 257.44, 'Dados preditos')"
      ]
     },
     "execution_count": 74,
     "metadata": {},
     "output_type": "execute_result"
    },
    {
     "data": {
      "image/png": "[encoded data removed]",
      "text/plain": [
       "<Figure size 432x288 with 2 Axes>"
      ]
     },
     "metadata": {
      "needs_background": "light"
     },
     "output_type": "display_data"
    }
   ],
   "source": [
    "# Avaliação e Visualização dos resultados\n",
    "\n",
    "print('\\n Hiperparâmetros otimizados: {} \\n'.format(clf.best_params_))\n",
    "\n",
    "acuracia = accuracy_score(y_teste, resultado_reglog)\n",
    "print('\\nAcurácia do modelo padrão: {:.3} %\\n'.format(acuracia * 100))\n",
    "\n",
    "precisao = precision_score(y_teste, resultado_reglog)\n",
    "print('\\nPrecisão do modelo padrão: {:.3} %\\n'.format(precisao * 100))\n",
    "\n",
    "class_report = classification_report(y_teste, resultado_reglog)\n",
    "print('Relatório de classificação:\\n', class_report)\n",
    "\n",
    "# Edição dos componentes do gráfico\n",
    "classes = [0,1]\n",
    "fig, ax = plt.subplots()\n",
    "marcadores = np.arange(len(classes))\n",
    "plt.xticks(marcadores, classes)\n",
    "plt.yticks(marcadores, classes)\n",
    "\n",
    "# Criação do mapa de calor\n",
    "matriz_reglog = confusion_matrix(y_teste,resultado_reglog)\n",
    "sns.heatmap(pd.DataFrame(matriz_reglog), annot = True, cmap = 'Greens', fmt = 'g')\n",
    "ax.xaxis.set_label_position('top')\n",
    "plt.tight_layout()\n",
    "plt.title('Matriz Confusão', fontsize = 15)\n",
    "plt.ylabel('Dados teste', fontsize = 12)\n",
    "plt.xlabel('Dados preditos', fontsize = 12)"
   ]
  },
  {
   "cell_type": "markdown",
   "metadata": {},
   "source": [
    "### Comentários\n",
    "\n",
    "- As métricas de acurácia e precisão em relação ao modelos desbalanceado reflitiram perda de desempenho;\n",
    "- Observa-se uma melhora significativa em relação ao _recall_ da classe 1, o que indica maior sensibilidade do modelo para os casos reais de pessoas que efetivamente saíram da clientela do banco;\n",
    "- Em contrapartida, a precisão do modelo para classe 1 também diminui, consequência do enviesamento causado pela técnica de oversampling;\n",
    "- O parâmetro _f1-score_ melhorou para classe 1, porém piorou para classe 0. Esse resultado é esperado devido ao enviesamento provocado pelo rebalanceamentos dos dados."
   ]
  },
  {
   "cell_type": "markdown",
   "metadata": {},
   "source": [
    "## Algoritmo 2 - Random Forest"
   ]
  },
  {
   "cell_type": "code",
   "execution_count": 75,
   "metadata": {},
   "outputs": [
    {
     "name": "stdout",
     "output_type": "stream",
     "text": [
      "Fitting 10 folds for each of 512 candidates, totalling 5120 fits\n"
     ]
    }
   ],
   "source": [
    "clf2 = GridSearchCV(randomforest, parameters, cv = 10, scoring = 'recall', verbose = 1)\n",
    "\n",
    "# Validação cruzada do modelo Random Forest \n",
    "clf2.fit(X_resampled, y_resampled)\n",
    "random_forest_balanced = clf3.predict(x_teste)"
   ]
  },
  {
   "cell_type": "code",
   "execution_count": 77,
   "metadata": {},
   "outputs": [
    {
     "name": "stdout",
     "output_type": "stream",
     "text": [
      "\n",
      " Hiperparâmetros otimizados: {'max_depth': 10, 'min_samples_leaf': 3, 'n_estimators': 60} \n",
      "\n",
      "\n",
      "Acurácia do modelo padrão: 82.2 %\n",
      "\n",
      "\n",
      "Precisão do modelo padrão: 53.5 %\n",
      "\n",
      "Relatório de classificação:\n",
      "               precision    recall  f1-score   support\n",
      "\n",
      "           0       0.92      0.85      0.88      1607\n",
      "           1       0.54      0.70      0.61       393\n",
      "\n",
      "    accuracy                           0.82      2000\n",
      "   macro avg       0.73      0.77      0.75      2000\n",
      "weighted avg       0.84      0.82      0.83      2000\n",
      "\n"
     ]
    },
    {
     "data": {
      "text/plain": [
       "Text(0.5, 257.44, 'Dados preditos')"
      ]
     },
     "execution_count": 77,
     "metadata": {},
     "output_type": "execute_result"
    },
    {
     "data": {
      "image/png": "[encoded data removed]",
      "text/plain": [
       "<Figure size 432x288 with 2 Axes>"
      ]
     },
     "metadata": {
      "needs_background": "light"
     },
     "output_type": "display_data"
    }
   ],
   "source": [
    "# Avaliação e Visualização dos resultados\n",
    "\n",
    "print('\\n Hiperparâmetros otimizados: {} \\n'.format(clf2.best_params_) )\n",
    "\n",
    "acuracia = accuracy_score(y_teste, random_forest_balanced)\n",
    "print('\\nAcurácia do modelo padrão: {:.3} %\\n'.format(acuracia*100))\n",
    "\n",
    "precisao = precision_score(y_teste, random_forest_balanced)\n",
    "print('\\nPrecisão do modelo padrão: {:.3} %\\n'.format(precisao*100))\n",
    "\n",
    "class_report = classification_report(y_teste, random_forest_balanced)\n",
    "print('Relatório de classificação:\\n', class_report)\n",
    "\n",
    "# Edição dos componentes do gráfico\n",
    "classes = [0,1]\n",
    "fig, ax = plt.subplots()\n",
    "marcadores = np.arange(len(classes))\n",
    "plt.xticks(marcadores, classes)\n",
    "plt.yticks(marcadores, classes)\n",
    "\n",
    "# Criação do mapa de calor\n",
    "matriz_rfbal = confusion_matrix(y_teste, random_forest_balanced)\n",
    "sns.heatmap(pd.DataFrame(matriz_rfbal), annot = True, cmap = 'Greens', fmt = 'g')\n",
    "ax.xaxis.set_label_position('top')\n",
    "plt.tight_layout()\n",
    "plt.title('Matriz Confusão', fontsize = 15)\n",
    "plt.ylabel('Dados teste', fontsize = 12)\n",
    "plt.xlabel('Dados preditos', fontsize = 12)"
   ]
  },
  {
   "cell_type": "markdown",
   "metadata": {},
   "source": [
    "### Comentários\n",
    "\n",
    "- Todas as observações feitas para o algoritmo da regressão logística são válidas;\n",
    "- Em relação ao desempenho da regressão logística, os parâmetros de precisão e acurácia foram superiores; \n",
    "- O parâmetro _recall_ para a classe 1 foi ligeiramente pior em relação à regressão logística, contudo a precisão foi superior. \n",
    "- O parâmetro f1-score também foi superior em relação à regressão logística. "
   ]
  },
  {
   "cell_type": "markdown",
   "metadata": {},
   "source": [
    "## Ajuste e Melhorias do modelo escolhido"
   ]
  },
  {
   "cell_type": "code",
   "execution_count": 78,
   "metadata": {},
   "outputs": [
    {
     "data": {
      "text/html": [
       "<div>\n",
       "<style scoped>\n",
       "    .dataframe tbody tr th:only-of-type {\n",
       "        vertical-align: middle;\n",
       "    }\n",
       "\n",
       "    .dataframe tbody tr th {\n",
       "        vertical-align: top;\n",
       "    }\n",
       "\n",
       "    .dataframe thead th {\n",
       "        text-align: right;\n",
       "    }\n",
       "</style>\n",
       "<table border=\"1\" class=\"dataframe\">\n",
       "  <thead>\n",
       "    <tr style=\"text-align: right;\">\n",
       "      <th></th>\n",
       "      <th>0</th>\n",
       "    </tr>\n",
       "  </thead>\n",
       "  <tbody>\n",
       "    <tr>\n",
       "      <th>Age</th>\n",
       "      <td>0.289644</td>\n",
       "    </tr>\n",
       "    <tr>\n",
       "      <th>NumOfProducts_2</th>\n",
       "      <td>0.157813</td>\n",
       "    </tr>\n",
       "    <tr>\n",
       "      <th>Balance</th>\n",
       "      <td>0.113506</td>\n",
       "    </tr>\n",
       "    <tr>\n",
       "      <th>CreditScore</th>\n",
       "      <td>0.065447</td>\n",
       "    </tr>\n",
       "    <tr>\n",
       "      <th>NumOfProducts_1</th>\n",
       "      <td>0.063680</td>\n",
       "    </tr>\n",
       "    <tr>\n",
       "      <th>EstimatedSalary</th>\n",
       "      <td>0.063207</td>\n",
       "    </tr>\n",
       "    <tr>\n",
       "      <th>NumOfProducts_3</th>\n",
       "      <td>0.055141</td>\n",
       "    </tr>\n",
       "    <tr>\n",
       "      <th>IsActiveMember</th>\n",
       "      <td>0.052867</td>\n",
       "    </tr>\n",
       "    <tr>\n",
       "      <th>Geography_Germany</th>\n",
       "      <td>0.036724</td>\n",
       "    </tr>\n",
       "    <tr>\n",
       "      <th>Tenure</th>\n",
       "      <td>0.035920</td>\n",
       "    </tr>\n",
       "    <tr>\n",
       "      <th>Gender</th>\n",
       "      <td>0.022478</td>\n",
       "    </tr>\n",
       "    <tr>\n",
       "      <th>Geography_France</th>\n",
       "      <td>0.014580</td>\n",
       "    </tr>\n",
       "    <tr>\n",
       "      <th>Geography_Spain</th>\n",
       "      <td>0.010224</td>\n",
       "    </tr>\n",
       "    <tr>\n",
       "      <th>HasCrCard</th>\n",
       "      <td>0.009392</td>\n",
       "    </tr>\n",
       "    <tr>\n",
       "      <th>NumOfProducts_4</th>\n",
       "      <td>0.009377</td>\n",
       "    </tr>\n",
       "  </tbody>\n",
       "</table>\n",
       "</div>"
      ],
      "text/plain": [
       "                          0\n",
       "Age                0.289644\n",
       "NumOfProducts_2    0.157813\n",
       "Balance            0.113506\n",
       "CreditScore        0.065447\n",
       "NumOfProducts_1    0.063680\n",
       "EstimatedSalary    0.063207\n",
       "NumOfProducts_3    0.055141\n",
       "IsActiveMember     0.052867\n",
       "Geography_Germany  0.036724\n",
       "Tenure             0.035920\n",
       "Gender             0.022478\n",
       "Geography_France   0.014580\n",
       "Geography_Spain    0.010224\n",
       "HasCrCard          0.009392\n",
       "NumOfProducts_4    0.009377"
      ]
     },
     "metadata": {},
     "output_type": "display_data"
    },
    {
     "data": {
      "image/png": "[encoded data removed]",
      "text/plain": [
       "<Figure size 1080x360 with 1 Axes>"
      ]
     },
     "metadata": {
      "needs_background": "light"
     },
     "output_type": "display_data"
    }
   ],
   "source": [
    "# Definição do modelo com os melhores hiperparâmetros\n",
    "randomforest = RandomForestClassifier(max_depth = 10, min_samples_leaf = 3, \n",
    "                                     n_estimators = 60, n_jobs = -1)\n",
    "\n",
    "# Rebalanceamento dos dados \n",
    "randomforest.fit(X_resampled, y_resampled)\n",
    "\n",
    "importancia_features = pd.DataFrame(randomforest.feature_importances_, X_resampled.columns)\n",
    "importancia_features = importancia_features.sort_values(by = 0, ascending = False)\n",
    "display(importancia_features)\n",
    "plt.figure(figsize = (15, 5))\n",
    "ax = sns.barplot(x = importancia_features.index, y = importancia_features[0])\n",
    "ax.tick_params(axis = 'x', rotation = 90)"
   ]
  },
  {
   "cell_type": "markdown",
   "metadata": {},
   "source": [
    "### Comentários\n",
    "\n",
    "- As últimas três variáveis (Geography_Spain, HashCrCard e NumOfProducts_4) não possuem muito impacto sobre o modelo final, por isso, serão excluídos do dataset para ajuste fino e redução das informações contidas no dataset."
   ]
  },
  {
   "cell_type": "code",
   "execution_count": 79,
   "metadata": {},
   "outputs": [
    {
     "data": {
      "text/html": [
       "<div>\n",
       "<style scoped>\n",
       "    .dataframe tbody tr th:only-of-type {\n",
       "        vertical-align: middle;\n",
       "    }\n",
       "\n",
       "    .dataframe tbody tr th {\n",
       "        vertical-align: top;\n",
       "    }\n",
       "\n",
       "    .dataframe thead th {\n",
       "        text-align: right;\n",
       "    }\n",
       "</style>\n",
       "<table border=\"1\" class=\"dataframe\">\n",
       "  <thead>\n",
       "    <tr style=\"text-align: right;\">\n",
       "      <th></th>\n",
       "      <th>CreditScore</th>\n",
       "      <th>Gender</th>\n",
       "      <th>Age</th>\n",
       "      <th>Tenure</th>\n",
       "      <th>Balance</th>\n",
       "      <th>IsActiveMember</th>\n",
       "      <th>EstimatedSalary</th>\n",
       "      <th>Geography_France</th>\n",
       "      <th>Geography_Germany</th>\n",
       "      <th>NumOfProducts_1</th>\n",
       "      <th>NumOfProducts_2</th>\n",
       "      <th>NumOfProducts_3</th>\n",
       "    </tr>\n",
       "  </thead>\n",
       "  <tbody>\n",
       "    <tr>\n",
       "      <th>0</th>\n",
       "      <td>0.538</td>\n",
       "      <td>0</td>\n",
       "      <td>0.324324</td>\n",
       "      <td>2</td>\n",
       "      <td>0.000000</td>\n",
       "      <td>1</td>\n",
       "      <td>0.506735</td>\n",
       "      <td>1</td>\n",
       "      <td>0</td>\n",
       "      <td>1</td>\n",
       "      <td>0</td>\n",
       "      <td>0</td>\n",
       "    </tr>\n",
       "    <tr>\n",
       "      <th>1</th>\n",
       "      <td>0.516</td>\n",
       "      <td>0</td>\n",
       "      <td>0.310811</td>\n",
       "      <td>1</td>\n",
       "      <td>0.334031</td>\n",
       "      <td>1</td>\n",
       "      <td>0.562709</td>\n",
       "      <td>0</td>\n",
       "      <td>0</td>\n",
       "      <td>1</td>\n",
       "      <td>0</td>\n",
       "      <td>0</td>\n",
       "    </tr>\n",
       "    <tr>\n",
       "      <th>2</th>\n",
       "      <td>0.304</td>\n",
       "      <td>0</td>\n",
       "      <td>0.324324</td>\n",
       "      <td>8</td>\n",
       "      <td>0.636357</td>\n",
       "      <td>0</td>\n",
       "      <td>0.569654</td>\n",
       "      <td>1</td>\n",
       "      <td>0</td>\n",
       "      <td>0</td>\n",
       "      <td>0</td>\n",
       "      <td>1</td>\n",
       "    </tr>\n",
       "    <tr>\n",
       "      <th>3</th>\n",
       "      <td>0.698</td>\n",
       "      <td>0</td>\n",
       "      <td>0.283784</td>\n",
       "      <td>1</td>\n",
       "      <td>0.000000</td>\n",
       "      <td>0</td>\n",
       "      <td>0.469120</td>\n",
       "      <td>1</td>\n",
       "      <td>0</td>\n",
       "      <td>0</td>\n",
       "      <td>1</td>\n",
       "      <td>0</td>\n",
       "    </tr>\n",
       "    <tr>\n",
       "      <th>4</th>\n",
       "      <td>1.000</td>\n",
       "      <td>0</td>\n",
       "      <td>0.337838</td>\n",
       "      <td>2</td>\n",
       "      <td>0.500246</td>\n",
       "      <td>1</td>\n",
       "      <td>0.395400</td>\n",
       "      <td>0</td>\n",
       "      <td>0</td>\n",
       "      <td>1</td>\n",
       "      <td>0</td>\n",
       "      <td>0</td>\n",
       "    </tr>\n",
       "  </tbody>\n",
       "</table>\n",
       "</div>"
      ],
      "text/plain": [
       "   CreditScore  Gender       Age  Tenure   Balance  IsActiveMember  \\\n",
       "0        0.538       0  0.324324       2  0.000000               1   \n",
       "1        0.516       0  0.310811       1  0.334031               1   \n",
       "2        0.304       0  0.324324       8  0.636357               0   \n",
       "3        0.698       0  0.283784       1  0.000000               0   \n",
       "4        1.000       0  0.337838       2  0.500246               1   \n",
       "\n",
       "   EstimatedSalary  Geography_France  Geography_Germany  NumOfProducts_1  \\\n",
       "0         0.506735                 1                  0                1   \n",
       "1         0.562709                 0                  0                1   \n",
       "2         0.569654                 1                  0                0   \n",
       "3         0.469120                 1                  0                0   \n",
       "4         0.395400                 0                  0                1   \n",
       "\n",
       "   NumOfProducts_2  NumOfProducts_3  \n",
       "0                0                0  \n",
       "1                0                0  \n",
       "2                0                1  \n",
       "3                1                0  \n",
       "4                0                0  "
      ]
     },
     "metadata": {},
     "output_type": "display_data"
    }
   ],
   "source": [
    "X_final = X_final.drop(columns = ['NumOfProducts_4', 'HasCrCard', 'Geography_Spain'])\n",
    "\n",
    "display(X_final.head(5))"
   ]
  },
  {
   "cell_type": "code",
   "execution_count": 80,
   "metadata": {},
   "outputs": [
    {
     "data": {
      "text/plain": [
       "(12712, 12)"
      ]
     },
     "metadata": {},
     "output_type": "display_data"
    },
    {
     "data": {
      "text/plain": [
       "(12712,)"
      ]
     },
     "metadata": {},
     "output_type": "display_data"
    }
   ],
   "source": [
    "# Separação dos dados em treino e teste\n",
    "x_treino, x_teste, y_treino, y_teste = train_test_split(X_final, Y, test_size = 0.20, random_state = 42)\n",
    "\n",
    "# Método de balanceamento de dados - Oversampling\n",
    "ros = RandomOverSampler(random_state = 42)\n",
    "\n",
    "# Rebalanceamento do dataset de treino\n",
    "X_resampled, y_resampled = ros.fit_resample(x_treino, y_treino)\n",
    "\n",
    "display(X_resampled.shape)\n",
    "display(y_resampled.shape)\n",
    "\n",
    "# Validação cruzada do modelo Random Forest \n",
    "randomforest.fit(X_resampled, y_resampled)\n",
    "rf = randomforest.predict(x_teste)"
   ]
  },
  {
   "cell_type": "code",
   "execution_count": 81,
   "metadata": {},
   "outputs": [
    {
     "name": "stdout",
     "output_type": "stream",
     "text": [
      "\n",
      "Acurácia do modelo padrão: 82.2 %\n",
      "\n",
      "\n",
      "Precisão do modelo padrão: 53.3 %\n",
      "\n",
      "Relatório de classificação:\n",
      "               precision    recall  f1-score   support\n",
      "\n",
      "           0       0.93      0.84      0.88      1607\n",
      "           1       0.53      0.75      0.62       393\n",
      "\n",
      "    accuracy                           0.82      2000\n",
      "   macro avg       0.73      0.80      0.75      2000\n",
      "weighted avg       0.85      0.82      0.83      2000\n",
      "\n"
     ]
    },
    {
     "data": {
      "text/plain": [
       "Text(0.5, 257.44, 'Dados preditos')"
      ]
     },
     "execution_count": 81,
     "metadata": {},
     "output_type": "execute_result"
    },
    {
     "data": {
      "image/png": "[encoded data removed]",
      "text/plain": [
       "<Figure size 432x288 with 2 Axes>"
      ]
     },
     "metadata": {
      "needs_background": "light"
     },
     "output_type": "display_data"
    }
   ],
   "source": [
    "# Avaliação e Visualização dos resultados\n",
    "\n",
    "acuracia = accuracy_score(y_teste, rf)\n",
    "print('\\nAcurácia do modelo padrão: {:.3} %\\n'.format(acuracia*100))\n",
    "\n",
    "precisao = precision_score(y_teste, rf)\n",
    "print('\\nPrecisão do modelo padrão: {:.3} %\\n'.format(precisao*100))\n",
    "\n",
    "class_report = classification_report(y_teste, rf)\n",
    "print('Relatório de classificação:\\n', class_report)\n",
    "\n",
    "# Edição dos componentes do gráfico\n",
    "classes = [0,1]\n",
    "fig, ax = plt.subplots()\n",
    "marcadores = np.arange(len(classes))\n",
    "plt.xticks(marcadores, classes)\n",
    "plt.yticks(marcadores, classes)\n",
    "\n",
    "# Criação do mapa de calor\n",
    "matriz_rfbal = confusion_matrix(y_teste, rf)\n",
    "sns.heatmap(pd.DataFrame(matriz_rfbal), annot = True, cmap = 'Greens', fmt = 'g')\n",
    "ax.xaxis.set_label_position('top')\n",
    "plt.tight_layout()\n",
    "plt.title('Matriz Confusão', fontsize = 15)\n",
    "plt.ylabel('Dados teste', fontsize = 12)\n",
    "plt.xlabel('Dados preditos', fontsize = 12)"
   ]
  },
  {
   "cell_type": "markdown",
   "metadata": {},
   "source": [
    "### Comentários\n",
    "\n",
    "- A exclusão das colunas foi responsável pela melhora do parâmetro _recall_ para a classe 1, indicando maior sensibilidade para detecção correta da saída dos clientes;\n",
    "- Outro ponto bastante interessante foi a manutenção do desempenho dos outros parâmetros pela exclusão das colunas, indicando que as variáveis excluídas realmente não afetavam significamente o modelo. "
   ]
  },
  {
   "cell_type": "markdown",
   "metadata": {},
   "source": [
    "## Conclusões\n",
    "\n",
    "- O problema de classificação binário definido através da variável 'Exited' foi avaliado para os algoritmos de classificação regressão logística e random_forest. \n",
    "- Inicialmente, com o dataset desbalanceado, o parâmetro _recall_ em relação à classe 1 (saída do cliente) era baixa, indicando pouca sensibilidade em relação aos dados reais verdadeiros. Os parâmetros acurácia e precisão calculados foram satisfatórios, porém correspondiam majoritariamente a qualidade de previsão para a classe 0, ou seja, clientes que permaneceram dentro do banco;\n",
    "- O balanceamento de dados através da técnica de Oversampling melhorou significativamente o parâmetro _recall_ e _f1-score_ para classe 1. Além disso, observou-se uma queda de desempenho para acurácia geral e previsão, evidenciando um _trade-off_ e enviesamento provocado pelo balanceamento;\n",
    "- A exclusão de colunas na análise de ajuste do modelo foi capaz de melhorar o parâmetro _recall_ para classe 1 sem a perda de desempenho das outras métricas de avaliação;\n",
    "- **Para o problema de negócio definido pela análise de _churn_, a técnica de Oversampling mostra-se essencial para melhoria da previsão dos dados em relação à classe 1, ou seja, saída dos clientes. Naturalmente, ocasiona-se um enviesamento dos dados, provocando a perda de performance em relação à classe 0 (clientes remanescentes).**"
   ]
  },
  {
   "cell_type": "code",
   "execution_count": null,
   "metadata": {},
   "outputs": [],
   "source": []
  }
 ],
 "metadata": {
  "kernelspec": {
   "display_name": "Python 3",
   "language": "python",
   "name": "python3"
  },
  "language_info": {
   "codemirror_mode": {
    "name": "ipython",
    "version": 3
   },
   "file_extension": ".py",
   "mimetype": "text/x-python",
   "name": "python",
   "nbconvert_exporter": "python",
   "pygments_lexer": "ipython3",
   "version": "3.8.5"
  }
 },
 "nbformat": 4,
 "nbformat_minor": 4
}
